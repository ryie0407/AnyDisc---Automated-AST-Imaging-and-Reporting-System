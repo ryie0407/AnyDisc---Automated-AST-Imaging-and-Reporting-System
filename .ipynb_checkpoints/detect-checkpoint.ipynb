{
 "cells": [
  {
   "cell_type": "code",
   "execution_count": 29,
   "id": "2d8fa705-8612-425f-bb43-77802cf0b88e",
   "metadata": {},
   "outputs": [
    {
     "name": "stdout",
     "output_type": "stream",
     "text": [
      "模型成功載入\n",
      "Average HSV value in the contour: (Hue, Saturation, Value) = (25.15697372220618, 35.85552667885905, 181.62081047261526)\n",
      "成功檢測抑菌圈:    Radius  Central_x  Central_y  width  height Site  lefttop_x  lefttop_y  \\\n",
      "0     220        344        227    441     447    O        124          4   \n",
      "1     215        344        227    431     437    O        129          9   \n",
      "2      99        312        302    199     190    I        213        212   \n",
      "3      94        313        301    189     180    I        218        217   \n",
      "4      36        473        208     73      73    I        438        172   \n",
      "5      31        473        208     63      63    I        443        177   \n",
      "6      73        342        125    146     146    I        270         54   \n",
      "7      68        342        124    136     136    I        275         59   \n",
      "\n",
      "   rightbottom_x  rightbottom_y  \n",
      "0            565            451  \n",
      "1            560            446  \n",
      "2            412            402  \n",
      "3            407            397  \n",
      "4            511            245  \n",
      "5            506            240  \n",
      "6            416            200  \n",
      "7            411            195  \n",
      "/home/ubuntu/miniconda3/lib/python3.10/site-packages/torch/functional.py:568: UserWarning: torch.meshgrid: in an upcoming release, it will be required to pass the indexing argument. (Triggered internally at  ../aten/src/ATen/native/TensorShape.cpp:2228.)\n",
      "  return _VF.meshgrid(tensors, **kwargs)  # type: ignore[attr-defined]\n",
      "成功識別紙錠資訊:       Central MIC_name  lefttop_x  lefttop_y  rightbottom_x  rightbottom_y\n",
      "0  (306, 312)      ER5      287.0      292.0          326.0          332.0\n",
      "1  (339, 123)     CF30      321.0      105.0          358.0          142.0\n",
      "2  (473, 210)     CT10      455.0      191.0          491.0          229.0\n",
      "3\n",
      "處理後的圖像已儲存至: ./static/output/processed_image.jpg\n",
      "結果資料已儲存至: ./static/output/result_20241015_172003.csv\n",
      "圖像處理成功完成\n"
     ]
    }
   ],
   "source": [
    "!python detect.py \\\n",
    "    --input_image ./data/TestPhoto/2023-08-25_15:18:34.jpg \\\n",
    "    --output_image ./static/output/5.processed_image.jpg \\\n",
    "    --bac Enterobacterales \\\n",
    "    --dish 9"
   ]
  },
  {
   "cell_type": "code",
   "execution_count": null,
   "id": "aaad1c5d-8063-4f6a-8842-d93c46602252",
   "metadata": {},
   "outputs": [],
   "source": []
  }
 ],
 "metadata": {
  "kernelspec": {
   "display_name": "Python 3 (ipykernel)",
   "language": "python",
   "name": "python3"
  },
  "language_info": {
   "codemirror_mode": {
    "name": "ipython",
    "version": 3
   },
   "file_extension": ".py",
   "mimetype": "text/x-python",
   "name": "python",
   "nbconvert_exporter": "python",
   "pygments_lexer": "ipython3",
   "version": "3.10.9"
  }
 },
 "nbformat": 4,
 "nbformat_minor": 5
}
